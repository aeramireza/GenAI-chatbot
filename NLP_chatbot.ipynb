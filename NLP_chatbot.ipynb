{
  "nbformat": 4,
  "nbformat_minor": 0,
  "metadata": {
    "colab": {
      "provenance": [],
      "authorship_tag": "ABX9TyNSfd+lKafdZzyLidu1YYOc"
    },
    "kernelspec": {
      "name": "python3",
      "display_name": "Python 3"
    },
    "language_info": {
      "name": "python"
    }
  },
  "cells": [
    {
      "cell_type": "code",
      "source": [
        "!pip install thefuzz"
      ],
      "metadata": {
        "colab": {
          "base_uri": "https://localhost:8080/"
        },
        "id": "Z1dpaNNGXuPW",
        "outputId": "1bfdb3ce-39f2-47a3-9f95-e0ff272a1f1e"
      },
      "execution_count": 1,
      "outputs": [
        {
          "output_type": "stream",
          "name": "stdout",
          "text": [
            "Requirement already satisfied: thefuzz in /usr/local/lib/python3.11/dist-packages (0.22.1)\n",
            "Requirement already satisfied: rapidfuzz<4.0.0,>=3.0.0 in /usr/local/lib/python3.11/dist-packages (from thefuzz) (3.12.1)\n"
          ]
        }
      ]
    },
    {
      "cell_type": "code",
      "execution_count": 2,
      "metadata": {
        "id": "FFGOd4y-XR43"
      },
      "outputs": [],
      "source": [
        "import pandas as pd\n",
        "import numpy as np\n",
        "import re\n",
        "import spacy\n",
        "from thefuzz import process"
      ]
    },
    {
      "cell_type": "code",
      "source": [
        "# Load one of spacy's english NLP models\n",
        "nlp = spacy.load(\"en_core_web_sm\")"
      ],
      "metadata": {
        "id": "zrn6MlPjVm70"
      },
      "execution_count": 3,
      "outputs": []
    },
    {
      "cell_type": "code",
      "source": [
        "from google.colab import drive\n",
        "drive.mount('/content/drive')"
      ],
      "metadata": {
        "id": "C6Wi3ntmXgBm",
        "colab": {
          "base_uri": "https://localhost:8080/"
        },
        "outputId": "0c749738-c5ed-4786-9395-2996f3387da4"
      },
      "execution_count": 4,
      "outputs": [
        {
          "output_type": "stream",
          "name": "stdout",
          "text": [
            "Mounted at /content/drive\n"
          ]
        }
      ]
    },
    {
      "cell_type": "code",
      "source": [
        "df = pd.read_csv('/content/drive/MyDrive/Colab_Notebooks/10-K_report_ext.csv')\n",
        "df"
      ],
      "metadata": {
        "id": "p18OmYWPX0WE",
        "colab": {
          "base_uri": "https://localhost:8080/",
          "height": 585
        },
        "outputId": "ee0d2915-14d2-48e3-9663-735333197065"
      },
      "execution_count": 5,
      "outputs": [
        {
          "output_type": "execute_result",
          "data": {
            "text/plain": [
              "      Company  Year  Total Revenue  Net Income  Total Assets  \\\n",
              "0   Microsoft  2020       143015.0     44281.0           NaN   \n",
              "1   Microsoft  2021       168088.0     61271.0      333779.0   \n",
              "2   Microsoft  2022       198270.0     72738.0      364840.0   \n",
              "3   Microsoft  2023       211915.0     72361.0      411976.0   \n",
              "4   Microsoft  2024       245122.0     88136.0      512163.0   \n",
              "5       Tesla  2019            NaN         NaN           NaN   \n",
              "6       Tesla  2020        31540.0       721.0       52148.0   \n",
              "7       Tesla  2021        53820.0      5519.0       62131.0   \n",
              "8       Tesla  2022        81460.0     12556.0       82338.0   \n",
              "9       Tesla  2023        96770.0     14997.0      106618.0   \n",
              "10      Apple  2020       274515.0     57411.0           NaN   \n",
              "11      Apple  2021       365817.0     94680.0      351002.0   \n",
              "12      Apple  2022       394328.0     99803.0      352755.0   \n",
              "13      Apple  2023       383285.0     96995.0      352583.0   \n",
              "14      Apple  2024       391035.0     93736.0      364980.0   \n",
              "\n",
              "    Total Liabilities  Cash Flow from Operating Activities  \\\n",
              "0                 NaN                                60675   \n",
              "1            191791.0                                76740   \n",
              "2            198298.0                                89035   \n",
              "3            205753.0                                87582   \n",
              "4            243686.0                               118548   \n",
              "5                 NaN                                 2405   \n",
              "6             28418.0                                 5943   \n",
              "7             30548.0                                11497   \n",
              "8             36440.0                                14724   \n",
              "9             43009.0                                13256   \n",
              "10                NaN                                80674   \n",
              "11           287912.0                               104038   \n",
              "12           302083.0                               122151   \n",
              "13           290437.0                               110543   \n",
              "14           308030.0                               118254   \n",
              "\n",
              "    Revenue Growth (%)  Net Income Growth (%)  Assets Growth (%)  \\\n",
              "0                  NaN                    NaN                NaN   \n",
              "1            17.531727              38.368601                NaN   \n",
              "2            17.956071              18.715216           9.305858   \n",
              "3             6.882030              -0.518299          12.919636   \n",
              "4            15.669962              21.800417          24.318650   \n",
              "5                  NaN                    NaN                NaN   \n",
              "6                  NaN                    NaN                NaN   \n",
              "7            70.640457             665.464632          19.143591   \n",
              "8            51.356373             127.504983          32.523217   \n",
              "9            18.794500              19.440905          29.488207   \n",
              "10                 NaN                    NaN                NaN   \n",
              "11           33.259385              64.916131                NaN   \n",
              "12            7.793788               5.410858           0.499427   \n",
              "13           -2.800461              -2.813543          -0.048759   \n",
              "14            2.021994              -3.359967           3.516052   \n",
              "\n",
              "    Liabilities Growth (%)  Cash Flow Growth (%)    Equity  Equity Growth (%)  \\\n",
              "0                      NaN                   NaN       NaN                NaN   \n",
              "1                      NaN             26.477132  141988.0                NaN   \n",
              "2                 3.392756             16.021631  166542.0          17.293011   \n",
              "3                 3.759493             -1.631942  206223.0          23.826422   \n",
              "4                18.436183             35.356580  268477.0          30.187709   \n",
              "5                      NaN                   NaN       NaN                NaN   \n",
              "6                      NaN            147.110187   23730.0                NaN   \n",
              "7                 7.495249             93.454484   31583.0          33.093131   \n",
              "8                19.287678             28.068192   45898.0          45.325017   \n",
              "9                18.026894             -9.970117   63609.0          38.587738   \n",
              "10                     NaN                   NaN       NaN                NaN   \n",
              "11                     NaN             28.961004   63090.0                NaN   \n",
              "12                4.921990             17.409985   50672.0         -19.682993   \n",
              "13               -3.855232             -9.502992   62146.0          22.643669   \n",
              "14                6.057424              6.975566   56950.0          -8.360956   \n",
              "\n",
              "    Equity to Asset Ratio  CFO to Net Income ratio  \n",
              "0                     NaN                 1.370227  \n",
              "1                0.425395                 1.252469  \n",
              "2                0.456480                 1.224051  \n",
              "3                0.500570                 1.210348  \n",
              "4                0.524202                 1.345058  \n",
              "5                     NaN                      NaN  \n",
              "6                0.455051                 8.242718  \n",
              "7                0.508329                 2.083167  \n",
              "8                0.557434                 1.172666  \n",
              "9                0.596607                 0.883910  \n",
              "10                    NaN                 1.405201  \n",
              "11               0.179743                 1.098838  \n",
              "12               0.143646                 1.223921  \n",
              "13               0.176259                 1.139677  \n",
              "14               0.156036                 1.261564  "
            ],
            "text/html": [
              "\n",
              "  <div id=\"df-1ed101e0-c1d0-4310-b3e1-c50a949c9a14\" class=\"colab-df-container\">\n",
              "    <div>\n",
              "<style scoped>\n",
              "    .dataframe tbody tr th:only-of-type {\n",
              "        vertical-align: middle;\n",
              "    }\n",
              "\n",
              "    .dataframe tbody tr th {\n",
              "        vertical-align: top;\n",
              "    }\n",
              "\n",
              "    .dataframe thead th {\n",
              "        text-align: right;\n",
              "    }\n",
              "</style>\n",
              "<table border=\"1\" class=\"dataframe\">\n",
              "  <thead>\n",
              "    <tr style=\"text-align: right;\">\n",
              "      <th></th>\n",
              "      <th>Company</th>\n",
              "      <th>Year</th>\n",
              "      <th>Total Revenue</th>\n",
              "      <th>Net Income</th>\n",
              "      <th>Total Assets</th>\n",
              "      <th>Total Liabilities</th>\n",
              "      <th>Cash Flow from Operating Activities</th>\n",
              "      <th>Revenue Growth (%)</th>\n",
              "      <th>Net Income Growth (%)</th>\n",
              "      <th>Assets Growth (%)</th>\n",
              "      <th>Liabilities Growth (%)</th>\n",
              "      <th>Cash Flow Growth (%)</th>\n",
              "      <th>Equity</th>\n",
              "      <th>Equity Growth (%)</th>\n",
              "      <th>Equity to Asset Ratio</th>\n",
              "      <th>CFO to Net Income ratio</th>\n",
              "    </tr>\n",
              "  </thead>\n",
              "  <tbody>\n",
              "    <tr>\n",
              "      <th>0</th>\n",
              "      <td>Microsoft</td>\n",
              "      <td>2020</td>\n",
              "      <td>143015.0</td>\n",
              "      <td>44281.0</td>\n",
              "      <td>NaN</td>\n",
              "      <td>NaN</td>\n",
              "      <td>60675</td>\n",
              "      <td>NaN</td>\n",
              "      <td>NaN</td>\n",
              "      <td>NaN</td>\n",
              "      <td>NaN</td>\n",
              "      <td>NaN</td>\n",
              "      <td>NaN</td>\n",
              "      <td>NaN</td>\n",
              "      <td>NaN</td>\n",
              "      <td>1.370227</td>\n",
              "    </tr>\n",
              "    <tr>\n",
              "      <th>1</th>\n",
              "      <td>Microsoft</td>\n",
              "      <td>2021</td>\n",
              "      <td>168088.0</td>\n",
              "      <td>61271.0</td>\n",
              "      <td>333779.0</td>\n",
              "      <td>191791.0</td>\n",
              "      <td>76740</td>\n",
              "      <td>17.531727</td>\n",
              "      <td>38.368601</td>\n",
              "      <td>NaN</td>\n",
              "      <td>NaN</td>\n",
              "      <td>26.477132</td>\n",
              "      <td>141988.0</td>\n",
              "      <td>NaN</td>\n",
              "      <td>0.425395</td>\n",
              "      <td>1.252469</td>\n",
              "    </tr>\n",
              "    <tr>\n",
              "      <th>2</th>\n",
              "      <td>Microsoft</td>\n",
              "      <td>2022</td>\n",
              "      <td>198270.0</td>\n",
              "      <td>72738.0</td>\n",
              "      <td>364840.0</td>\n",
              "      <td>198298.0</td>\n",
              "      <td>89035</td>\n",
              "      <td>17.956071</td>\n",
              "      <td>18.715216</td>\n",
              "      <td>9.305858</td>\n",
              "      <td>3.392756</td>\n",
              "      <td>16.021631</td>\n",
              "      <td>166542.0</td>\n",
              "      <td>17.293011</td>\n",
              "      <td>0.456480</td>\n",
              "      <td>1.224051</td>\n",
              "    </tr>\n",
              "    <tr>\n",
              "      <th>3</th>\n",
              "      <td>Microsoft</td>\n",
              "      <td>2023</td>\n",
              "      <td>211915.0</td>\n",
              "      <td>72361.0</td>\n",
              "      <td>411976.0</td>\n",
              "      <td>205753.0</td>\n",
              "      <td>87582</td>\n",
              "      <td>6.882030</td>\n",
              "      <td>-0.518299</td>\n",
              "      <td>12.919636</td>\n",
              "      <td>3.759493</td>\n",
              "      <td>-1.631942</td>\n",
              "      <td>206223.0</td>\n",
              "      <td>23.826422</td>\n",
              "      <td>0.500570</td>\n",
              "      <td>1.210348</td>\n",
              "    </tr>\n",
              "    <tr>\n",
              "      <th>4</th>\n",
              "      <td>Microsoft</td>\n",
              "      <td>2024</td>\n",
              "      <td>245122.0</td>\n",
              "      <td>88136.0</td>\n",
              "      <td>512163.0</td>\n",
              "      <td>243686.0</td>\n",
              "      <td>118548</td>\n",
              "      <td>15.669962</td>\n",
              "      <td>21.800417</td>\n",
              "      <td>24.318650</td>\n",
              "      <td>18.436183</td>\n",
              "      <td>35.356580</td>\n",
              "      <td>268477.0</td>\n",
              "      <td>30.187709</td>\n",
              "      <td>0.524202</td>\n",
              "      <td>1.345058</td>\n",
              "    </tr>\n",
              "    <tr>\n",
              "      <th>5</th>\n",
              "      <td>Tesla</td>\n",
              "      <td>2019</td>\n",
              "      <td>NaN</td>\n",
              "      <td>NaN</td>\n",
              "      <td>NaN</td>\n",
              "      <td>NaN</td>\n",
              "      <td>2405</td>\n",
              "      <td>NaN</td>\n",
              "      <td>NaN</td>\n",
              "      <td>NaN</td>\n",
              "      <td>NaN</td>\n",
              "      <td>NaN</td>\n",
              "      <td>NaN</td>\n",
              "      <td>NaN</td>\n",
              "      <td>NaN</td>\n",
              "      <td>NaN</td>\n",
              "    </tr>\n",
              "    <tr>\n",
              "      <th>6</th>\n",
              "      <td>Tesla</td>\n",
              "      <td>2020</td>\n",
              "      <td>31540.0</td>\n",
              "      <td>721.0</td>\n",
              "      <td>52148.0</td>\n",
              "      <td>28418.0</td>\n",
              "      <td>5943</td>\n",
              "      <td>NaN</td>\n",
              "      <td>NaN</td>\n",
              "      <td>NaN</td>\n",
              "      <td>NaN</td>\n",
              "      <td>147.110187</td>\n",
              "      <td>23730.0</td>\n",
              "      <td>NaN</td>\n",
              "      <td>0.455051</td>\n",
              "      <td>8.242718</td>\n",
              "    </tr>\n",
              "    <tr>\n",
              "      <th>7</th>\n",
              "      <td>Tesla</td>\n",
              "      <td>2021</td>\n",
              "      <td>53820.0</td>\n",
              "      <td>5519.0</td>\n",
              "      <td>62131.0</td>\n",
              "      <td>30548.0</td>\n",
              "      <td>11497</td>\n",
              "      <td>70.640457</td>\n",
              "      <td>665.464632</td>\n",
              "      <td>19.143591</td>\n",
              "      <td>7.495249</td>\n",
              "      <td>93.454484</td>\n",
              "      <td>31583.0</td>\n",
              "      <td>33.093131</td>\n",
              "      <td>0.508329</td>\n",
              "      <td>2.083167</td>\n",
              "    </tr>\n",
              "    <tr>\n",
              "      <th>8</th>\n",
              "      <td>Tesla</td>\n",
              "      <td>2022</td>\n",
              "      <td>81460.0</td>\n",
              "      <td>12556.0</td>\n",
              "      <td>82338.0</td>\n",
              "      <td>36440.0</td>\n",
              "      <td>14724</td>\n",
              "      <td>51.356373</td>\n",
              "      <td>127.504983</td>\n",
              "      <td>32.523217</td>\n",
              "      <td>19.287678</td>\n",
              "      <td>28.068192</td>\n",
              "      <td>45898.0</td>\n",
              "      <td>45.325017</td>\n",
              "      <td>0.557434</td>\n",
              "      <td>1.172666</td>\n",
              "    </tr>\n",
              "    <tr>\n",
              "      <th>9</th>\n",
              "      <td>Tesla</td>\n",
              "      <td>2023</td>\n",
              "      <td>96770.0</td>\n",
              "      <td>14997.0</td>\n",
              "      <td>106618.0</td>\n",
              "      <td>43009.0</td>\n",
              "      <td>13256</td>\n",
              "      <td>18.794500</td>\n",
              "      <td>19.440905</td>\n",
              "      <td>29.488207</td>\n",
              "      <td>18.026894</td>\n",
              "      <td>-9.970117</td>\n",
              "      <td>63609.0</td>\n",
              "      <td>38.587738</td>\n",
              "      <td>0.596607</td>\n",
              "      <td>0.883910</td>\n",
              "    </tr>\n",
              "    <tr>\n",
              "      <th>10</th>\n",
              "      <td>Apple</td>\n",
              "      <td>2020</td>\n",
              "      <td>274515.0</td>\n",
              "      <td>57411.0</td>\n",
              "      <td>NaN</td>\n",
              "      <td>NaN</td>\n",
              "      <td>80674</td>\n",
              "      <td>NaN</td>\n",
              "      <td>NaN</td>\n",
              "      <td>NaN</td>\n",
              "      <td>NaN</td>\n",
              "      <td>NaN</td>\n",
              "      <td>NaN</td>\n",
              "      <td>NaN</td>\n",
              "      <td>NaN</td>\n",
              "      <td>1.405201</td>\n",
              "    </tr>\n",
              "    <tr>\n",
              "      <th>11</th>\n",
              "      <td>Apple</td>\n",
              "      <td>2021</td>\n",
              "      <td>365817.0</td>\n",
              "      <td>94680.0</td>\n",
              "      <td>351002.0</td>\n",
              "      <td>287912.0</td>\n",
              "      <td>104038</td>\n",
              "      <td>33.259385</td>\n",
              "      <td>64.916131</td>\n",
              "      <td>NaN</td>\n",
              "      <td>NaN</td>\n",
              "      <td>28.961004</td>\n",
              "      <td>63090.0</td>\n",
              "      <td>NaN</td>\n",
              "      <td>0.179743</td>\n",
              "      <td>1.098838</td>\n",
              "    </tr>\n",
              "    <tr>\n",
              "      <th>12</th>\n",
              "      <td>Apple</td>\n",
              "      <td>2022</td>\n",
              "      <td>394328.0</td>\n",
              "      <td>99803.0</td>\n",
              "      <td>352755.0</td>\n",
              "      <td>302083.0</td>\n",
              "      <td>122151</td>\n",
              "      <td>7.793788</td>\n",
              "      <td>5.410858</td>\n",
              "      <td>0.499427</td>\n",
              "      <td>4.921990</td>\n",
              "      <td>17.409985</td>\n",
              "      <td>50672.0</td>\n",
              "      <td>-19.682993</td>\n",
              "      <td>0.143646</td>\n",
              "      <td>1.223921</td>\n",
              "    </tr>\n",
              "    <tr>\n",
              "      <th>13</th>\n",
              "      <td>Apple</td>\n",
              "      <td>2023</td>\n",
              "      <td>383285.0</td>\n",
              "      <td>96995.0</td>\n",
              "      <td>352583.0</td>\n",
              "      <td>290437.0</td>\n",
              "      <td>110543</td>\n",
              "      <td>-2.800461</td>\n",
              "      <td>-2.813543</td>\n",
              "      <td>-0.048759</td>\n",
              "      <td>-3.855232</td>\n",
              "      <td>-9.502992</td>\n",
              "      <td>62146.0</td>\n",
              "      <td>22.643669</td>\n",
              "      <td>0.176259</td>\n",
              "      <td>1.139677</td>\n",
              "    </tr>\n",
              "    <tr>\n",
              "      <th>14</th>\n",
              "      <td>Apple</td>\n",
              "      <td>2024</td>\n",
              "      <td>391035.0</td>\n",
              "      <td>93736.0</td>\n",
              "      <td>364980.0</td>\n",
              "      <td>308030.0</td>\n",
              "      <td>118254</td>\n",
              "      <td>2.021994</td>\n",
              "      <td>-3.359967</td>\n",
              "      <td>3.516052</td>\n",
              "      <td>6.057424</td>\n",
              "      <td>6.975566</td>\n",
              "      <td>56950.0</td>\n",
              "      <td>-8.360956</td>\n",
              "      <td>0.156036</td>\n",
              "      <td>1.261564</td>\n",
              "    </tr>\n",
              "  </tbody>\n",
              "</table>\n",
              "</div>\n",
              "    <div class=\"colab-df-buttons\">\n",
              "\n",
              "  <div class=\"colab-df-container\">\n",
              "    <button class=\"colab-df-convert\" onclick=\"convertToInteractive('df-1ed101e0-c1d0-4310-b3e1-c50a949c9a14')\"\n",
              "            title=\"Convert this dataframe to an interactive table.\"\n",
              "            style=\"display:none;\">\n",
              "\n",
              "  <svg xmlns=\"http://www.w3.org/2000/svg\" height=\"24px\" viewBox=\"0 -960 960 960\">\n",
              "    <path d=\"M120-120v-720h720v720H120Zm60-500h600v-160H180v160Zm220 220h160v-160H400v160Zm0 220h160v-160H400v160ZM180-400h160v-160H180v160Zm440 0h160v-160H620v160ZM180-180h160v-160H180v160Zm440 0h160v-160H620v160Z\"/>\n",
              "  </svg>\n",
              "    </button>\n",
              "\n",
              "  <style>\n",
              "    .colab-df-container {\n",
              "      display:flex;\n",
              "      gap: 12px;\n",
              "    }\n",
              "\n",
              "    .colab-df-convert {\n",
              "      background-color: #E8F0FE;\n",
              "      border: none;\n",
              "      border-radius: 50%;\n",
              "      cursor: pointer;\n",
              "      display: none;\n",
              "      fill: #1967D2;\n",
              "      height: 32px;\n",
              "      padding: 0 0 0 0;\n",
              "      width: 32px;\n",
              "    }\n",
              "\n",
              "    .colab-df-convert:hover {\n",
              "      background-color: #E2EBFA;\n",
              "      box-shadow: 0px 1px 2px rgba(60, 64, 67, 0.3), 0px 1px 3px 1px rgba(60, 64, 67, 0.15);\n",
              "      fill: #174EA6;\n",
              "    }\n",
              "\n",
              "    .colab-df-buttons div {\n",
              "      margin-bottom: 4px;\n",
              "    }\n",
              "\n",
              "    [theme=dark] .colab-df-convert {\n",
              "      background-color: #3B4455;\n",
              "      fill: #D2E3FC;\n",
              "    }\n",
              "\n",
              "    [theme=dark] .colab-df-convert:hover {\n",
              "      background-color: #434B5C;\n",
              "      box-shadow: 0px 1px 3px 1px rgba(0, 0, 0, 0.15);\n",
              "      filter: drop-shadow(0px 1px 2px rgba(0, 0, 0, 0.3));\n",
              "      fill: #FFFFFF;\n",
              "    }\n",
              "  </style>\n",
              "\n",
              "    <script>\n",
              "      const buttonEl =\n",
              "        document.querySelector('#df-1ed101e0-c1d0-4310-b3e1-c50a949c9a14 button.colab-df-convert');\n",
              "      buttonEl.style.display =\n",
              "        google.colab.kernel.accessAllowed ? 'block' : 'none';\n",
              "\n",
              "      async function convertToInteractive(key) {\n",
              "        const element = document.querySelector('#df-1ed101e0-c1d0-4310-b3e1-c50a949c9a14');\n",
              "        const dataTable =\n",
              "          await google.colab.kernel.invokeFunction('convertToInteractive',\n",
              "                                                    [key], {});\n",
              "        if (!dataTable) return;\n",
              "\n",
              "        const docLinkHtml = 'Like what you see? Visit the ' +\n",
              "          '<a target=\"_blank\" href=https://colab.research.google.com/notebooks/data_table.ipynb>data table notebook</a>'\n",
              "          + ' to learn more about interactive tables.';\n",
              "        element.innerHTML = '';\n",
              "        dataTable['output_type'] = 'display_data';\n",
              "        await google.colab.output.renderOutput(dataTable, element);\n",
              "        const docLink = document.createElement('div');\n",
              "        docLink.innerHTML = docLinkHtml;\n",
              "        element.appendChild(docLink);\n",
              "      }\n",
              "    </script>\n",
              "  </div>\n",
              "\n",
              "\n",
              "<div id=\"df-31039334-39f3-4038-845e-b20cb0b5374d\">\n",
              "  <button class=\"colab-df-quickchart\" onclick=\"quickchart('df-31039334-39f3-4038-845e-b20cb0b5374d')\"\n",
              "            title=\"Suggest charts\"\n",
              "            style=\"display:none;\">\n",
              "\n",
              "<svg xmlns=\"http://www.w3.org/2000/svg\" height=\"24px\"viewBox=\"0 0 24 24\"\n",
              "     width=\"24px\">\n",
              "    <g>\n",
              "        <path d=\"M19 3H5c-1.1 0-2 .9-2 2v14c0 1.1.9 2 2 2h14c1.1 0 2-.9 2-2V5c0-1.1-.9-2-2-2zM9 17H7v-7h2v7zm4 0h-2V7h2v10zm4 0h-2v-4h2v4z\"/>\n",
              "    </g>\n",
              "</svg>\n",
              "  </button>\n",
              "\n",
              "<style>\n",
              "  .colab-df-quickchart {\n",
              "      --bg-color: #E8F0FE;\n",
              "      --fill-color: #1967D2;\n",
              "      --hover-bg-color: #E2EBFA;\n",
              "      --hover-fill-color: #174EA6;\n",
              "      --disabled-fill-color: #AAA;\n",
              "      --disabled-bg-color: #DDD;\n",
              "  }\n",
              "\n",
              "  [theme=dark] .colab-df-quickchart {\n",
              "      --bg-color: #3B4455;\n",
              "      --fill-color: #D2E3FC;\n",
              "      --hover-bg-color: #434B5C;\n",
              "      --hover-fill-color: #FFFFFF;\n",
              "      --disabled-bg-color: #3B4455;\n",
              "      --disabled-fill-color: #666;\n",
              "  }\n",
              "\n",
              "  .colab-df-quickchart {\n",
              "    background-color: var(--bg-color);\n",
              "    border: none;\n",
              "    border-radius: 50%;\n",
              "    cursor: pointer;\n",
              "    display: none;\n",
              "    fill: var(--fill-color);\n",
              "    height: 32px;\n",
              "    padding: 0;\n",
              "    width: 32px;\n",
              "  }\n",
              "\n",
              "  .colab-df-quickchart:hover {\n",
              "    background-color: var(--hover-bg-color);\n",
              "    box-shadow: 0 1px 2px rgba(60, 64, 67, 0.3), 0 1px 3px 1px rgba(60, 64, 67, 0.15);\n",
              "    fill: var(--button-hover-fill-color);\n",
              "  }\n",
              "\n",
              "  .colab-df-quickchart-complete:disabled,\n",
              "  .colab-df-quickchart-complete:disabled:hover {\n",
              "    background-color: var(--disabled-bg-color);\n",
              "    fill: var(--disabled-fill-color);\n",
              "    box-shadow: none;\n",
              "  }\n",
              "\n",
              "  .colab-df-spinner {\n",
              "    border: 2px solid var(--fill-color);\n",
              "    border-color: transparent;\n",
              "    border-bottom-color: var(--fill-color);\n",
              "    animation:\n",
              "      spin 1s steps(1) infinite;\n",
              "  }\n",
              "\n",
              "  @keyframes spin {\n",
              "    0% {\n",
              "      border-color: transparent;\n",
              "      border-bottom-color: var(--fill-color);\n",
              "      border-left-color: var(--fill-color);\n",
              "    }\n",
              "    20% {\n",
              "      border-color: transparent;\n",
              "      border-left-color: var(--fill-color);\n",
              "      border-top-color: var(--fill-color);\n",
              "    }\n",
              "    30% {\n",
              "      border-color: transparent;\n",
              "      border-left-color: var(--fill-color);\n",
              "      border-top-color: var(--fill-color);\n",
              "      border-right-color: var(--fill-color);\n",
              "    }\n",
              "    40% {\n",
              "      border-color: transparent;\n",
              "      border-right-color: var(--fill-color);\n",
              "      border-top-color: var(--fill-color);\n",
              "    }\n",
              "    60% {\n",
              "      border-color: transparent;\n",
              "      border-right-color: var(--fill-color);\n",
              "    }\n",
              "    80% {\n",
              "      border-color: transparent;\n",
              "      border-right-color: var(--fill-color);\n",
              "      border-bottom-color: var(--fill-color);\n",
              "    }\n",
              "    90% {\n",
              "      border-color: transparent;\n",
              "      border-bottom-color: var(--fill-color);\n",
              "    }\n",
              "  }\n",
              "</style>\n",
              "\n",
              "  <script>\n",
              "    async function quickchart(key) {\n",
              "      const quickchartButtonEl =\n",
              "        document.querySelector('#' + key + ' button');\n",
              "      quickchartButtonEl.disabled = true;  // To prevent multiple clicks.\n",
              "      quickchartButtonEl.classList.add('colab-df-spinner');\n",
              "      try {\n",
              "        const charts = await google.colab.kernel.invokeFunction(\n",
              "            'suggestCharts', [key], {});\n",
              "      } catch (error) {\n",
              "        console.error('Error during call to suggestCharts:', error);\n",
              "      }\n",
              "      quickchartButtonEl.classList.remove('colab-df-spinner');\n",
              "      quickchartButtonEl.classList.add('colab-df-quickchart-complete');\n",
              "    }\n",
              "    (() => {\n",
              "      let quickchartButtonEl =\n",
              "        document.querySelector('#df-31039334-39f3-4038-845e-b20cb0b5374d button');\n",
              "      quickchartButtonEl.style.display =\n",
              "        google.colab.kernel.accessAllowed ? 'block' : 'none';\n",
              "    })();\n",
              "  </script>\n",
              "</div>\n",
              "\n",
              "  <div id=\"id_95cf3618-f879-48e4-89f6-254456606ce6\">\n",
              "    <style>\n",
              "      .colab-df-generate {\n",
              "        background-color: #E8F0FE;\n",
              "        border: none;\n",
              "        border-radius: 50%;\n",
              "        cursor: pointer;\n",
              "        display: none;\n",
              "        fill: #1967D2;\n",
              "        height: 32px;\n",
              "        padding: 0 0 0 0;\n",
              "        width: 32px;\n",
              "      }\n",
              "\n",
              "      .colab-df-generate:hover {\n",
              "        background-color: #E2EBFA;\n",
              "        box-shadow: 0px 1px 2px rgba(60, 64, 67, 0.3), 0px 1px 3px 1px rgba(60, 64, 67, 0.15);\n",
              "        fill: #174EA6;\n",
              "      }\n",
              "\n",
              "      [theme=dark] .colab-df-generate {\n",
              "        background-color: #3B4455;\n",
              "        fill: #D2E3FC;\n",
              "      }\n",
              "\n",
              "      [theme=dark] .colab-df-generate:hover {\n",
              "        background-color: #434B5C;\n",
              "        box-shadow: 0px 1px 3px 1px rgba(0, 0, 0, 0.15);\n",
              "        filter: drop-shadow(0px 1px 2px rgba(0, 0, 0, 0.3));\n",
              "        fill: #FFFFFF;\n",
              "      }\n",
              "    </style>\n",
              "    <button class=\"colab-df-generate\" onclick=\"generateWithVariable('df')\"\n",
              "            title=\"Generate code using this dataframe.\"\n",
              "            style=\"display:none;\">\n",
              "\n",
              "  <svg xmlns=\"http://www.w3.org/2000/svg\" height=\"24px\"viewBox=\"0 0 24 24\"\n",
              "       width=\"24px\">\n",
              "    <path d=\"M7,19H8.4L18.45,9,17,7.55,7,17.6ZM5,21V16.75L18.45,3.32a2,2,0,0,1,2.83,0l1.4,1.43a1.91,1.91,0,0,1,.58,1.4,1.91,1.91,0,0,1-.58,1.4L9.25,21ZM18.45,9,17,7.55Zm-12,3A5.31,5.31,0,0,0,4.9,8.1,5.31,5.31,0,0,0,1,6.5,5.31,5.31,0,0,0,4.9,4.9,5.31,5.31,0,0,0,6.5,1,5.31,5.31,0,0,0,8.1,4.9,5.31,5.31,0,0,0,12,6.5,5.46,5.46,0,0,0,6.5,12Z\"/>\n",
              "  </svg>\n",
              "    </button>\n",
              "    <script>\n",
              "      (() => {\n",
              "      const buttonEl =\n",
              "        document.querySelector('#id_95cf3618-f879-48e4-89f6-254456606ce6 button.colab-df-generate');\n",
              "      buttonEl.style.display =\n",
              "        google.colab.kernel.accessAllowed ? 'block' : 'none';\n",
              "\n",
              "      buttonEl.onclick = () => {\n",
              "        google.colab.notebook.generateWithVariable('df');\n",
              "      }\n",
              "      })();\n",
              "    </script>\n",
              "  </div>\n",
              "\n",
              "    </div>\n",
              "  </div>\n"
            ],
            "application/vnd.google.colaboratory.intrinsic+json": {
              "type": "dataframe",
              "variable_name": "df",
              "summary": "{\n  \"name\": \"df\",\n  \"rows\": 15,\n  \"fields\": [\n    {\n      \"column\": \"Company\",\n      \"properties\": {\n        \"dtype\": \"category\",\n        \"num_unique_values\": 3,\n        \"samples\": [\n          \"Microsoft\",\n          \"Tesla\",\n          \"Apple\"\n        ],\n        \"semantic_type\": \"\",\n        \"description\": \"\"\n      }\n    },\n    {\n      \"column\": \"Year\",\n      \"properties\": {\n        \"dtype\": \"number\",\n        \"std\": 1,\n        \"min\": 2019,\n        \"max\": 2024,\n        \"num_unique_values\": 6,\n        \"samples\": [\n          2020,\n          2021,\n          2019\n        ],\n        \"semantic_type\": \"\",\n        \"description\": \"\"\n      }\n    },\n    {\n      \"column\": \"Total Revenue\",\n      \"properties\": {\n        \"dtype\": \"number\",\n        \"std\": 129413.3680010864,\n        \"min\": 31540.0,\n        \"max\": 394328.0,\n        \"num_unique_values\": 14,\n        \"samples\": [\n          274515.0,\n          394328.0,\n          143015.0\n        ],\n        \"semantic_type\": \"\",\n        \"description\": \"\"\n      }\n    },\n    {\n      \"column\": \"Net Income\",\n      \"properties\": {\n        \"dtype\": \"number\",\n        \"std\": 36553.74162152169,\n        \"min\": 721.0,\n        \"max\": 99803.0,\n        \"num_unique_values\": 14,\n        \"samples\": [\n          57411.0,\n          99803.0,\n          44281.0\n        ],\n        \"semantic_type\": \"\",\n        \"description\": \"\"\n      }\n    },\n    {\n      \"column\": \"Total Assets\",\n      \"properties\": {\n        \"dtype\": \"number\",\n        \"std\": 157460.93362720165,\n        \"min\": 52148.0,\n        \"max\": 512163.0,\n        \"num_unique_values\": 12,\n        \"samples\": [\n          352583.0,\n          352755.0,\n          333779.0\n        ],\n        \"semantic_type\": \"\",\n        \"description\": \"\"\n      }\n    },\n    {\n      \"column\": \"Total Liabilities\",\n      \"properties\": {\n        \"dtype\": \"number\",\n        \"std\": 114818.36669368079,\n        \"min\": 28418.0,\n        \"max\": 308030.0,\n        \"num_unique_values\": 12,\n        \"samples\": [\n          290437.0,\n          302083.0,\n          191791.0\n        ],\n        \"semantic_type\": \"\",\n        \"description\": \"\"\n      }\n    },\n    {\n      \"column\": \"Cash Flow from Operating Activities\",\n      \"properties\": {\n        \"dtype\": \"number\",\n        \"std\": 45840,\n        \"min\": 2405,\n        \"max\": 122151,\n        \"num_unique_values\": 15,\n        \"samples\": [\n          13256,\n          104038,\n          60675\n        ],\n        \"semantic_type\": \"\",\n        \"description\": \"\"\n      }\n    },\n    {\n      \"column\": \"Revenue Growth (%)\",\n      \"properties\": {\n        \"dtype\": \"number\",\n        \"std\": 22.101853815988903,\n        \"min\": -2.800460530319937,\n        \"max\": 70.64045656309447,\n        \"num_unique_values\": 11,\n        \"samples\": [\n          51.356373095503535,\n          17.5317274411775,\n          -2.800460530319937\n        ],\n        \"semantic_type\": \"\",\n        \"description\": \"\"\n      }\n    },\n    {\n      \"column\": \"Net Income Growth (%)\",\n      \"properties\": {\n        \"dtype\": \"number\",\n        \"std\": 195.73961551705258,\n        \"min\": -3.359967008608689,\n        \"max\": 665.4646324549237,\n        \"num_unique_values\": 11,\n        \"samples\": [\n          127.50498278673672,\n          38.36860052844335,\n          -2.813542679077785\n        ],\n        \"semantic_type\": \"\",\n        \"description\": \"\"\n      }\n    },\n    {\n      \"column\": \"Assets Growth (%)\",\n      \"properties\": {\n        \"dtype\": \"number\",\n        \"std\": 12.374907608473498,\n        \"min\": -0.0487590537341819,\n        \"max\": 32.52321707360255,\n        \"num_unique_values\": 9,\n        \"samples\": [\n          -0.0487590537341819,\n          12.919636004824042,\n          29.488207146153652\n        ],\n        \"semantic_type\": \"\",\n        \"description\": \"\"\n      }\n    },\n    {\n      \"column\": \"Liabilities Growth (%)\",\n      \"properties\": {\n        \"dtype\": \"number\",\n        \"std\": 8.114287160744597,\n        \"min\": -3.855231840255824,\n        \"max\": 19.28767840775174,\n        \"num_unique_values\": 9,\n        \"samples\": [\n          -3.855231840255824,\n          3.759493287879856,\n          18.026893523600428\n        ],\n        \"semantic_type\": \"\",\n        \"description\": \"\"\n      }\n    },\n    {\n      \"column\": \"Cash Flow Growth (%)\",\n      \"properties\": {\n        \"dtype\": \"number\",\n        \"std\": 45.527866775181245,\n        \"min\": -9.970116816082584,\n        \"max\": 147.1101871101871,\n        \"num_unique_values\": 12,\n        \"samples\": [\n          -9.502992198180936,\n          17.40998481324132,\n          26.477132262051907\n        ],\n        \"semantic_type\": \"\",\n        \"description\": \"\"\n      }\n    },\n    {\n      \"column\": \"Equity\",\n      \"properties\": {\n        \"dtype\": \"number\",\n        \"std\": 78427.40555791359,\n        \"min\": 23730.0,\n        \"max\": 268477.0,\n        \"num_unique_values\": 12,\n        \"samples\": [\n          62146.0,\n          50672.0,\n          141988.0\n        ],\n        \"semantic_type\": \"\",\n        \"description\": \"\"\n      }\n    },\n    {\n      \"column\": \"Equity Growth (%)\",\n      \"properties\": {\n        \"dtype\": \"number\",\n        \"std\": 21.416055108016323,\n        \"min\": -19.68299255032493,\n        \"max\": 45.32501662286674,\n        \"num_unique_values\": 9,\n        \"samples\": [\n          22.643669087464467,\n          23.826422163778503,\n          38.587738027800775\n        ],\n        \"semantic_type\": \"\",\n        \"description\": \"\"\n      }\n    },\n    {\n      \"column\": \"Equity to Asset Ratio\",\n      \"properties\": {\n        \"dtype\": \"number\",\n        \"std\": 0.17325357907053782,\n        \"min\": 0.1436464401638531,\n        \"max\": 0.5966065767506424,\n        \"num_unique_values\": 12,\n        \"samples\": [\n          0.1762592070519565,\n          0.1436464401638531,\n          0.4253952465553555\n        ],\n        \"semantic_type\": \"\",\n        \"description\": \"\"\n      }\n    },\n    {\n      \"column\": \"CFO to Net Income ratio\",\n      \"properties\": {\n        \"dtype\": \"number\",\n        \"std\": 1.8788682756349195,\n        \"min\": 0.8839101153564046,\n        \"max\": 8.242718446601941,\n        \"num_unique_values\": 14,\n        \"samples\": [\n          1.405201093867029,\n          1.2239211246154926,\n          1.370226507983108\n        ],\n        \"semantic_type\": \"\",\n        \"description\": \"\"\n      }\n    }\n  ]\n}"
            }
          },
          "metadata": {},
          "execution_count": 5
        }
      ]
    },
    {
      "cell_type": "code",
      "source": [
        "figures = list(df.columns[2:])\n",
        "figures"
      ],
      "metadata": {
        "id": "hLU5I8kSYH_y",
        "colab": {
          "base_uri": "https://localhost:8080/"
        },
        "outputId": "c68fde88-3445-46c7-d2cb-0bc7a280c276"
      },
      "execution_count": 8,
      "outputs": [
        {
          "output_type": "execute_result",
          "data": {
            "text/plain": [
              "['Total Revenue',\n",
              " 'Net Income',\n",
              " 'Total Assets',\n",
              " 'Total Liabilities',\n",
              " 'Cash Flow from Operating Activities',\n",
              " 'Revenue Growth (%)',\n",
              " 'Net Income Growth (%)',\n",
              " 'Assets Growth (%)',\n",
              " 'Liabilities Growth (%)',\n",
              " 'Cash Flow Growth (%)',\n",
              " 'Equity',\n",
              " 'Equity Growth (%)',\n",
              " 'Equity to Asset Ratio',\n",
              " 'CFO to Net Income ratio']"
            ]
          },
          "metadata": {},
          "execution_count": 8
        }
      ]
    },
    {
      "cell_type": "code",
      "source": [
        "def extract_entities(user_query):\n",
        "    \"\"\"Uses an NLP model to extract company names (always capitalized), years, and financial figures from the user query.\"\"\"\n",
        "\n",
        "    # Apply the model to the user query\n",
        "    doc = nlp(user_query)\n",
        "\n",
        "    # Initialize the variables of interest\n",
        "    company = None\n",
        "    year = None\n",
        "    figure = None\n",
        "\n",
        "    # Extract company name\n",
        "    for ent in doc.ents:\n",
        "        if ent.label_ == \"ORG\":  # Organizations (companies), names always capitalized\n",
        "            if ent.text in df[\"Company\"].values:\n",
        "                company = ent.text\n",
        "                break\n",
        "\n",
        "    # Extract year (4-digit number)\n",
        "    for token in doc:\n",
        "        if token.text.isdigit() and len(token.text) == 4:\n",
        "            year = int(token.text)\n",
        "            break\n",
        "\n",
        "    # Extract financial figure using fuzzy matching\n",
        "    metric, confidence = process.extractOne(user_query, figures)\n",
        "    if confidence > 80:\n",
        "        figure = metric\n",
        "\n",
        "    # Extract a list of keywords in case the user wants to perform aggregation functions\n",
        "    aggregation_keywords = {\"mean\": 'mean',\n",
        "                            \"average\": 'mean',\n",
        "                            \"sum\": 'sum',\n",
        "                            \"count\": 'count',\n",
        "                            \"min\": 'min',\n",
        "                            \"minimum\": 'min',\n",
        "                            \"maximum\": 'max',\n",
        "                            \"max\": 'max',\n",
        "                            \"median\": 'median',\n",
        "                            \"mode\": 'mode',\n",
        "                            \"std\": 'std',\n",
        "                            \"standard deviation\": 'std',\n",
        "                            \"variance\": 'var'}\n",
        "\n",
        "    pattern = re.compile(r\"\\b(\" + \"|\".join(aggregation_keywords.keys()) + r\")\\b\", re.IGNORECASE)\n",
        "    matches = pattern.findall(doc.text.lower())\n",
        "    matches_dict = {}\n",
        "    for key in matches:\n",
        "        matches_dict[key] = aggregation_keywords[key]\n",
        "\n",
        "    return company, year, figure, matches_dict"
      ],
      "metadata": {
        "id": "KIo5433RZKSy"
      },
      "execution_count": 10,
      "outputs": []
    },
    {
      "cell_type": "code",
      "source": [
        "def simple_chatbot(df):\n",
        "    \"\"\"Handles the user queries.\"\"\"\n",
        "    print(\"Bot: Hello! I'm a chatbot specialized in financial queries. How can I assist you today?\")\n",
        "\n",
        "    user_query = input(\"You: \")\n",
        "\n",
        "    # Call the function extract_entities to identify company, year and figure from the query\n",
        "    company, year, figure, matches_dict = extract_entities(user_query)\n",
        "\n",
        "    # Handle missing information\n",
        "    if not company:\n",
        "        company = extract_entities(input(\"Bot: Sorry, I couldn't identify the company in your query. Please specify it: \").capitalize())[0]\n",
        "    if not figure:\n",
        "        figure = extract_entities(input(\"Bot: Sorry, I couldn't identify the financial metric in your query. Please specify it: \"))[2]\n",
        "    if not year and not matches_dict:\n",
        "        year = extract_entities(input(\"Bot: Sorry, I couldn't identify the year in your query. Please specify it: \"))[1]\n",
        "\n",
        "    # Retrieve the data points of interest\n",
        "    point = df[(df[\"Company\"] == company) & (df[\"Year\"] == year)][figure]\n",
        "\n",
        "    if not matches_dict:\n",
        "        try:\n",
        "            if np.isnan(point.values[0]):\n",
        "                return \"Bot: Sorry, the information you are looking for cannot be obtained from the dataset provided.\"\n",
        "            elif not point.empty:\n",
        "                if re.search(r\"%\", figure):\n",
        "                    return \"Bot: {}'s {} in {} was {}%.\".format(company, re.sub(r\"\\s\\(%\\)\", \"\", figure), year, round(point.values[0], 1))\n",
        "                else:\n",
        "                    return \"Bot: {}'s {} in {} was {} million USD.\".format(company, figure, year, point.values[0])\n",
        "            else:\n",
        "                return \"Bot: Sorry, the information you are looking for cannot be obtained from the dataset provided.\"\n",
        "        except IndexError:\n",
        "            return \"Bot: Sorry, the information you are looking for cannot be obtained from the dataset provided.\"\n",
        "    else:\n",
        "        for func in matches_dict.keys():\n",
        "            result = df[(df['Company']==company)][figure].agg(matches_dict[func])\n",
        "            if re.search(r\"%\", figure):\n",
        "                print(\"Bot: The {} {} for {} is: {}%.\".format(func, figure, company, round(result, 1)))\n",
        "            else:\n",
        "                print(\"Bot: The {} {} for {} is: {} million USD.\".format(func, figure, company, round(result, 1)))"
      ],
      "metadata": {
        "id": "WncdXaGCXxtD"
      },
      "execution_count": 19,
      "outputs": []
    },
    {
      "cell_type": "code",
      "source": [
        "simple_chatbot(df) # figure in million USD"
      ],
      "metadata": {
        "id": "ci0Nd8dXSypZ",
        "colab": {
          "base_uri": "https://localhost:8080/",
          "height": 69
        },
        "outputId": "4755de93-848f-419c-b8a3-0a8b49a1a627"
      },
      "execution_count": 12,
      "outputs": [
        {
          "name": "stdout",
          "output_type": "stream",
          "text": [
            "Bot: Hello! I'm a chatbot specialized in financial queries. How can I assist you today?\n",
            "You: What were Microsoft's total assets in 2023?\n"
          ]
        },
        {
          "output_type": "execute_result",
          "data": {
            "text/plain": [
              "\"Bot: Microsoft's Total Assets in 2023 was 411976.0 million USD.\""
            ],
            "application/vnd.google.colaboratory.intrinsic+json": {
              "type": "string"
            }
          },
          "metadata": {},
          "execution_count": 12
        }
      ]
    },
    {
      "cell_type": "code",
      "source": [
        "simple_chatbot(df) # retrieves NaN value"
      ],
      "metadata": {
        "id": "3gxUONB1dNdJ",
        "colab": {
          "base_uri": "https://localhost:8080/",
          "height": 69
        },
        "outputId": "64fda849-a86f-498d-86ce-ee39b038f3fb"
      },
      "execution_count": 13,
      "outputs": [
        {
          "name": "stdout",
          "output_type": "stream",
          "text": [
            "Bot: Hello! I'm a chatbot specialized in financial queries. How can I assist you today?\n",
            "You: What were Microsoft's total assets in 2020?\n"
          ]
        },
        {
          "output_type": "execute_result",
          "data": {
            "text/plain": [
              "'Bot: Sorry, the information you are looking for cannot be obtained from the dataset provided.'"
            ],
            "application/vnd.google.colaboratory.intrinsic+json": {
              "type": "string"
            }
          },
          "metadata": {},
          "execution_count": 13
        }
      ]
    },
    {
      "cell_type": "code",
      "source": [
        "simple_chatbot(df) # year not in the dataframe"
      ],
      "metadata": {
        "id": "L5WFIDdrfm9o",
        "colab": {
          "base_uri": "https://localhost:8080/",
          "height": 69
        },
        "outputId": "24924577-aac4-4c1d-def1-711eae037ef6"
      },
      "execution_count": 14,
      "outputs": [
        {
          "name": "stdout",
          "output_type": "stream",
          "text": [
            "Bot: Hello! I'm a chatbot specialized in financial queries. How can I assist you today?\n",
            "You: What was Microsoft's equity in 1999?\n"
          ]
        },
        {
          "output_type": "execute_result",
          "data": {
            "text/plain": [
              "'Bot: Sorry, the information you are looking for cannot be obtained from the dataset provided.'"
            ],
            "application/vnd.google.colaboratory.intrinsic+json": {
              "type": "string"
            }
          },
          "metadata": {},
          "execution_count": 14
        }
      ]
    },
    {
      "cell_type": "code",
      "source": [
        "simple_chatbot(df) # figure in percentage %"
      ],
      "metadata": {
        "id": "7bYJ9Cvfft9U",
        "colab": {
          "base_uri": "https://localhost:8080/",
          "height": 86
        },
        "outputId": "ded67b4d-8c36-4167-b1bc-be77a80d52cc"
      },
      "execution_count": 15,
      "outputs": [
        {
          "name": "stdout",
          "output_type": "stream",
          "text": [
            "Bot: Hello! I'm a chatbot specialized in financial queries. How can I assist you today?\n",
            "You: Hey dear chatbot! I would really like to know, just out of curiosity, what was tesla's revenue growth in 2022?\n",
            "Bot: Sorry, I couldn't identify the company in your query. Please specify it: tesla\n"
          ]
        },
        {
          "output_type": "execute_result",
          "data": {
            "text/plain": [
              "\"Bot: Tesla's Revenue Growth in 2022 was 51.4%.\""
            ],
            "application/vnd.google.colaboratory.intrinsic+json": {
              "type": "string"
            }
          },
          "metadata": {},
          "execution_count": 15
        }
      ]
    },
    {
      "cell_type": "code",
      "source": [
        "simple_chatbot(df) # company not in the data frame"
      ],
      "metadata": {
        "id": "rgrGVg5Ef4rd",
        "colab": {
          "base_uri": "https://localhost:8080/",
          "height": 103
        },
        "outputId": "4ae789d3-3cc9-44c1-dd06-14eb1cca849b"
      },
      "execution_count": 16,
      "outputs": [
        {
          "name": "stdout",
          "output_type": "stream",
          "text": [
            "Bot: Hello! I'm a chatbot specialized in financial queries. How can I assist you today?\n",
            "You: Tell me the CFO to net income ratio of Costco.\n",
            "Bot: Sorry, I couldn't identify the company in your query. Please specify it: Costco\n",
            "Bot: Sorry, I couldn't identify the year in your query. Please specify it: 2024\n"
          ]
        },
        {
          "output_type": "execute_result",
          "data": {
            "text/plain": [
              "'Bot: Sorry, the information you are looking for cannot be obtained from the dataset provided.'"
            ],
            "application/vnd.google.colaboratory.intrinsic+json": {
              "type": "string"
            }
          },
          "metadata": {},
          "execution_count": 16
        }
      ]
    },
    {
      "cell_type": "code",
      "source": [
        "simple_chatbot(df) # Mean value in million USD"
      ],
      "metadata": {
        "id": "NfebSqdHj7cW",
        "colab": {
          "base_uri": "https://localhost:8080/"
        },
        "outputId": "f766963f-2dca-48c7-99ee-dac103e9735f"
      },
      "execution_count": 20,
      "outputs": [
        {
          "output_type": "stream",
          "name": "stdout",
          "text": [
            "Bot: Hello! I'm a chatbot specialized in financial queries. How can I assist you today?\n",
            "You: What's the average equity for Apple?\n",
            "Bot: The average Equity for Apple is: 58214.5 million USD.\n"
          ]
        }
      ]
    },
    {
      "cell_type": "code",
      "source": [
        "simple_chatbot(df) # If the query is extended, the model is not able to differentiate Equity from Equity Growth (%)\n",
        "                  # Here I'm asking for the average equity, and the bot gives information about equity growth (%), which is a different variable"
      ],
      "metadata": {
        "colab": {
          "base_uri": "https://localhost:8080/"
        },
        "id": "3iIIVSa4lIpI",
        "outputId": "6b091a48-5d9a-4c20-ef56-af8711695a0a"
      },
      "execution_count": 25,
      "outputs": [
        {
          "output_type": "stream",
          "name": "stdout",
          "text": [
            "Bot: Hello! I'm a chatbot specialized in financial queries. How can I assist you today?\n",
            "You: What's the average equity for Apple for the last 10 years?\n",
            "Bot: The average Equity Growth (%) for Apple is: -1.8%.\n"
          ]
        }
      ]
    },
    {
      "cell_type": "code",
      "source": [
        "simple_chatbot(df) # Mean value in percentage %"
      ],
      "metadata": {
        "id": "zMWUGRS1NZ6O",
        "colab": {
          "base_uri": "https://localhost:8080/"
        },
        "outputId": "72feec19-a2c1-4de6-d5f1-73a32c81be44"
      },
      "execution_count": 22,
      "outputs": [
        {
          "output_type": "stream",
          "name": "stdout",
          "text": [
            "Bot: Hello! I'm a chatbot specialized in financial queries. How can I assist you today?\n",
            "You: Tell me the mean revenue growth for apple\n",
            "Bot: Sorry, I couldn't identify the company in your query. Please specify it: Apple\n",
            "Bot: The mean Revenue Growth (%) for Apple is: 10.1%.\n"
          ]
        }
      ]
    },
    {
      "cell_type": "code",
      "source": [
        "simple_chatbot(df) # Another aggregation function"
      ],
      "metadata": {
        "colab": {
          "base_uri": "https://localhost:8080/"
        },
        "id": "JuxtnnAjkSqk",
        "outputId": "49d39c2d-cef7-4567-c827-ba9545202892"
      },
      "execution_count": 24,
      "outputs": [
        {
          "output_type": "stream",
          "name": "stdout",
          "text": [
            "Bot: Hello! I'm a chatbot specialized in financial queries. How can I assist you today?\n",
            "You: What was the minimum net income for Tesla?\n",
            "Bot: The minimum Net Income for Tesla is: 721.0 million USD.\n"
          ]
        }
      ]
    },
    {
      "cell_type": "markdown",
      "source": [
        "**Comments:**\n",
        "\n",
        "1. This chatbot works better if the name of the company is capitalized in the query.\n",
        "\n",
        "2. The chatbot presents an issue with fuzzy words, and is not able to differentiate, for example, equity from equity growth (%), when the query is extended and contains irrelevant information (This is probably due to the confidence level used when extracting figures with process.extractOne). Thus, the user queries should be as succinct as possible.\n",
        "\n",
        "3. I coded this version of the chatbot so it could calculate several aggregation functions and not only the mean. But it does the calculations over all the years that are available in the data set."
      ],
      "metadata": {
        "id": "fAzUlueQkw6P"
      }
    }
  ]
}